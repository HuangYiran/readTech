{
 "cells": [
  {
   "cell_type": "markdown",
   "metadata": {},
   "source": [
    "本文内容主要来自：\n",
    "- https://blog.csdn.net/wuichuan/article/details/66969315\n",
    "- https://blog.csdn.net/Hungryof/article/details/71436529\n",
    "- 忘了一个"
   ]
  },
  {
   "cell_type": "markdown",
   "metadata": {},
   "source": [
    "### 判定使用GPU\n",
    "下载了对应的GPU版本的Pytorch之后，要确保GPU是可以进行使用的，通过torch.cuda.is_available()的返回值来进行判断。返回 True 则具有能够使用的GPU。<br>\n",
    "通过 torch.cuda.device_count() 可以获得能够使用的GPU数量。"
   ]
  },
  {
   "cell_type": "markdown",
   "metadata": {},
   "source": [
    "### 数据迁移"
   ]
  },
  {
   "cell_type": "markdown",
   "metadata": {},
   "source": [
    "不论是什么类型的Tensor（FloatTensor或者是LongTensor等等），一律直接使用方法.cuda()即可。<br>\n",
    "如果要将显存中的数据复制到内存中，则对cuda数据类型使用 .cpu() 方法即可\n",
    "```\n",
    "ten1 = torch.FloatTensor(2)\n",
    ">>>>  6.1101e+24\n",
    " \t  4.5659e-41\n",
    "\t  [torch.FloatTensor of size 2]\n",
    "\t  \n",
    "ten1_cuda = ten1.cuda()\n",
    ">>>>   6.1101e+24\n",
    "\t   4.5659e-41\n",
    "\t   [torch.cuda.FloatTensor of size 2 (GPU 0)]\n",
    "```"
   ]
  },
  {
   "cell_type": "markdown",
   "metadata": {},
   "source": [
    "Variable数据的迁移应该特别注意，因为grad_func的原因，如果直接迁移Variable数据可能导致，requires_grad参数被重置为零，所以一般都是先迁移到GPU上之后，在用Varaible进行包装。"
   ]
  },
  {
   "cell_type": "markdown",
   "metadata": {},
   "source": [
    "### 模型迁移"
   ]
  },
  {
   "cell_type": "markdown",
   "metadata": {},
   "source": [
    "所谓的模型，其实也就是对输入参数做了一些基本的矩阵运算。所以我们对`模型 .cuda() 实际上也相当于将模型使用到的参数存储到了显存上去。\n",
    "```\n",
    "linear = torch.nn.Linear(2, 2)\n",
    ">>>> Linear(in_features=2, out_features=2)\n",
    "\n",
    "linear_cuda = linear.cuda()\n",
    ">>>> Linear(in_features=2, out_features=2)\n",
    "\n",
    "linear.weight\n",
    ">>>> Parameter containing:\n",
    "    -0.6847  0.2149\n",
    "    -0.5473  0.6863\n",
    "    [torch.FloatTensor of size 2x2]\n",
    "\n",
    "linear_cuda.weight\n",
    ">>>> Parameter containing:\n",
    "    -0.6847  0.2149\n",
    "    -0.5473  0.6863\n",
    "    [torch.cuda.FloatTensor of size 2x2 (GPU 0)]\n",
    "```"
   ]
  },
  {
   "cell_type": "markdown",
   "metadata": {},
   "source": [
    "### 多GPU运算"
   ]
  },
  {
   "cell_type": "markdown",
   "metadata": {},
   "source": [
    "nn.DataParallel"
   ]
  },
  {
   "cell_type": "markdown",
   "metadata": {},
   "source": [
    "### 例子"
   ]
  },
  {
   "cell_type": "markdown",
   "metadata": {},
   "source": [
    "(为测试)\n",
    "准备数据\n",
    "```\n",
    "import numpy as np\n",
    "import matplotlib.pyplot as plt\n",
    "import torch\n",
    "from torch.autograd import  Variable\n",
    "import torch.nn as nn\n",
    "x = np.random.randn(1000, 1)*4\n",
    "w = np.array([0.5,])\n",
    "bias = -1.68\n",
    "\n",
    "y_true = np.dot(x, w) + bias  #真实数据\n",
    "y = y_true + np.random.randn(x.shape[0])#加噪声的数据\n",
    "#我们需要使用x和y，以及y_true回归出w和bias\n",
    "```\n",
    "定义回归网络的类\n",
    "```\n",
    "class LinearRression(nn.Module):\n",
    "    def __init__(self, input_size, out_size):\n",
    "        super(LinearRression, self).__init__()\n",
    "        self.x2o = nn.Linear(input_size, out_size)\n",
    "    #初始化\n",
    "    def forward(self, x):\n",
    "        return self.x2o(x)\n",
    "    #前向传递\n",
    "```\n",
    "接下来介绍将定义模型和优化器\n",
    "```\n",
    "batch_size = 10\n",
    "model = LinearRression(1, 1)#回归模型\n",
    "criterion = nn.MSELoss()  #损失函数\n",
    "#调用cuda\n",
    "model.cuda()\n",
    "criterion.cuda()\n",
    "\n",
    "optimizer = torch.optim.SGD(model.parameters(), lr=0.001, momentum=0.9)\n",
    "losses = []\n",
    "```\n",
    "下面就是训（练）练（丹）了\n",
    "```\n",
    "for i in range(epoches):\n",
    "    loss = 0\n",
    "    optimizer.zero_grad()#清空上一步的梯度\n",
    "    idx = np.random.randint(x.shape[0], size=batch_size)\n",
    "    batch_cpu = Variable(torch.from_numpy(x[idx])).float()\n",
    "    batch = batch_cpu.cuda()#很重要\n",
    "\n",
    "    target_cpu = Variable(torch.from_numpy(y[idx])).float()\n",
    "    target = target_cpu.cuda()#很重要\n",
    "    output = model.forward(batch)\n",
    "    loss += criterion(output, target)\n",
    "    loss.backward()\n",
    "    optimizer.step()\n",
    "\n",
    "    if (i +1)%10 == 0:\n",
    "        print('Loss at epoch[%s]: %.3f' % (i, loss.data[0]))\n",
    "    losses.append(loss.data[0])\n",
    "\n",
    "plt.plot(losses, '-or')\n",
    "plt.xlabel(\"Epoch\")\n",
    "plt.xlabel(\"Loss\")\n",
    "\n",
    "plt.show()\n",
    "```"
   ]
  },
  {
   "cell_type": "markdown",
   "metadata": {},
   "source": [
    "综上，一个要在GPU上训练一个模型必须做到以下几点：\n",
    "- 数据cuda化，包括src和tgt数据，不确定Variable包装时间是否有影响\n",
    "- model cuda化，主要是里面进行矩阵运算的参数cuda化,但使用model.cuda()的时候，受影响的parameter其实只有nn中的哪些参数，所以如果你有其他的，自定义的参数也要放到GPU上预算，应该给这些参数特别的说明？？？？\n",
    "- loss cuda化\n",
    "- optimizer好像没关系\n",
    "- 不知道在显卡上调用Variable.data后再转回Variable是否会影响他们的grad_func属性？？？"
   ]
  },
  {
   "cell_type": "code",
   "execution_count": null,
   "metadata": {
    "collapsed": true
   },
   "outputs": [],
   "source": []
  }
 ],
 "metadata": {
  "kernelspec": {
   "display_name": "Py27",
   "language": "python",
   "name": "python2"
  },
  "language_info": {
   "codemirror_mode": {
    "name": "ipython",
    "version": 2
   },
   "file_extension": ".py",
   "mimetype": "text/x-python",
   "name": "python",
   "nbconvert_exporter": "python",
   "pygments_lexer": "ipython2",
   "version": "2.7.13"
  }
 },
 "nbformat": 4,
 "nbformat_minor": 2
}
