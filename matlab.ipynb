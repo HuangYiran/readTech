{
 "cells": [
  {
   "cell_type": "markdown",
   "metadata": {},
   "source": [
    "matlab为mathwork公司旗下的产品，相关产品家族图如下，\n",
    "![matlab1]()"
   ]
  },
  {
   "cell_type": "markdown",
   "metadata": {},
   "source": [
    "### 创建数组\n",
    "1. 直接定义\n",
    "2. 函数命令\n",
    "x = linespace(a, b, n) #从a到b，间距为n\n",
    "y = a: n: b\n",
    "Z = [x; y] # 纵向拼接，要求列数相同\n",
    "Z = [x, y] # 横向拼接，要求行数相同\n",
    "countries = {'China'; 'US'; 'German'};\n",
    "b = rand(10, 1) # 十行一列随机数\n",
    "![matlab2]()\n",
    "\n",
    "### 数组索引\n",
    "x(j, k) # j为行，k为列\n",
    "x(:, end) # :表示取整行，end表示最后一列\n",
    "\n",
    "### 数学运算\n",
    "![matlab3]()"
   ]
  },
  {
   "cell_type": "markdown",
   "metadata": {},
   "source": [
    "### 工作流程\n",
    "![matlab4]()"
   ]
  },
  {
   "cell_type": "markdown",
   "metadata": {},
   "source": [
    "### 常用命令及操作\n",
    "可以在shortcat菜单栏上，自定义快捷键<br>\n",
    "tab键可以补全命令<br>\n",
    "变量框的变量是可以拉动的<br>\n",
    "自动导入数据的时候，可以同时生成导入的代码到script中<br>\n",
    "运行脚本可以直接在命令行中输入脚本的名字<br>\n",
    "在脚本最前方加入clear语句，可以保证脚本在运行的时候能够拥有干净的环境<br>\n",
    "clear all: 清空变量<br>\n",
    "clc: 清空命令窗口中的内容<br>\n",
    "close all: 关闭所有的图形图像窗口<br>\n",
    "doc plot: doc命令可以用于查询详细的命令信息<br>\n",
    "figure: 产生新的图像窗口，否则plot会覆盖在上一个图版上"
   ]
  }
 ],
 "metadata": {
  "kernelspec": {
   "display_name": "Py27",
   "language": "python",
   "name": "python2"
  },
  "language_info": {
   "codemirror_mode": {
    "name": "ipython",
    "version": 2
   },
   "file_extension": ".py",
   "mimetype": "text/x-python",
   "name": "python",
   "nbconvert_exporter": "python",
   "pygments_lexer": "ipython2",
   "version": "2.7.13"
  }
 },
 "nbformat": 4,
 "nbformat_minor": 2
}
