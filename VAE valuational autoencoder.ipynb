{
 "cells": [
  {
   "cell_type": "markdown",
   "metadata": {},
   "source": [
    "![vae](https://raw.githubusercontent.com/HuangYiran/readPaper/master/fotos/vae.png)"
   ]
  },
  {
   "cell_type": "markdown",
   "metadata": {},
   "source": [
    "上图中，m是一般autoencoder的中间项，sigma是由输入产生的干扰项，e是随机生成的噪音。也就是把原来的vetor m加入noise称为vector c。其他和一般的autoencoder一样。但是这样还是不够的，因为如果只是minimize input和output的差异，那么可能到时sigma为0.所以一般我们会加入一个contrain：\n",
    "$\\sum_{i} (exp(\\sigma _i)-(1+\\sigma_i) + (m_i)^2)$<br>\n",
    "其中m的平方可以当成是L2正则项。\n",
    "但是这同样会导致sigma为零，所以其实不是很了解，为什么要这么做。"
   ]
  },
  {
   "cell_type": "code",
   "execution_count": null,
   "metadata": {
    "collapsed": true
   },
   "outputs": [],
   "source": []
  }
 ],
 "metadata": {
  "kernelspec": {
   "display_name": "Py27",
   "language": "python",
   "name": "python2"
  },
  "language_info": {
   "codemirror_mode": {
    "name": "ipython",
    "version": 2
   },
   "file_extension": ".py",
   "mimetype": "text/x-python",
   "name": "python",
   "nbconvert_exporter": "python",
   "pygments_lexer": "ipython2",
   "version": "2.7.13"
  }
 },
 "nbformat": 4,
 "nbformat_minor": 2
}
