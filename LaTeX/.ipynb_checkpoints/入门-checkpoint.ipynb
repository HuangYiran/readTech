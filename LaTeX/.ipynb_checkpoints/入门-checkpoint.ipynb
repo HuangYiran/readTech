{
 "cells": [
  {
   "cell_type": "markdown",
   "metadata": {},
   "source": [
    "### 本文内容主要来自：\n",
    "- http://liuchengxu.org/blog-cn/posts/quick-latex/\n",
    "- http://www.aichengxu.com/diannao/1446225.htm\n",
    "- https://liam0205.me/2014/09/08/latex-introduction/"
   ]
  },
  {
   "cell_type": "markdown",
   "metadata": {},
   "source": [
    "## LaTeX模板常见文件类型\n",
    "||功能简要介绍|\n",
    "|--:|:--:|\n",
    "|.dtx|Documented LaTeX sources, 宏包重要部分, 程序说明文件的源文件|\n",
    "|.ins|installation, 控制TeX从.dtx文件里释放宏包文件. 用来解压和重建.dtx文件|\n",
    "|.cfg|config, 配置文件，可由上面两个文件生成|\n",
    "|.sty|style files, LaTeX宏包文件，使用\\usepackage将.sty加载到LaTeX中|\n",
    "|.cls|classes files, 类文件，定义文章的排版布局，使用\\documentclass{...}命令进行加载|\n",
    "|.aux|auxiliary, 存放交叉引用信息, 不影响正常使用|\n",
    "|.bst|BibTex stype file, 用来控制参考文献样式, 即BiBTeX将.bib生成.bbl的格式|\n",
    "|.bbl|由BiBTeX生成，会被LaTeX使用的参考文献列表|\n",
    "|.bib|参考文献数据库，以便引用|\n",
    "|.blg|存储BiBTeX日志|\n",
    "\n",
    "\n",
    "补充说明：<br>\n",
    ".dtx: 程序说明文件的源文件，含有类包程序*.cls、宏包程序*.sty、说明或格式程序*.tex和配置程序*.cfg等多种程序<br>\n",
    ".ins: 用户下载了一个LaTeX包后，通常会获取一个.dtx和一个.ins文件，使用*.ins安装文件的好处就在于它能够一次性自动地完成对*.dtx文件的分类重建工作。<br>"
   ]
  },
  {
   "cell_type": "markdown",
   "metadata": {},
   "source": [
    "## 常用资源推荐\n",
    "- http://detexify.kirelabs.org/classify.html"
   ]
  },
  {
   "cell_type": "markdown",
   "metadata": {},
   "source": [
    "## Hallo world\n",
    "```\n",
    "\\documentclass{article}\n",
    "%这里是导言区\n",
    "\\begin{document}\n",
    "Hello, world!\n",
    "\\end{document}\n",
    "```"
   ]
  },
  {
   "cell_type": "markdown",
   "metadata": {},
   "source": [
    "##### 控制序列 documentclass\n",
    "此处的第一行 \\documentclass{article} 中包含了一个控制序列（或称命令/标记）。所谓控制序列，是以反斜杠\\开头，以第一个空格或非字母 的字符结束的一串文字，他们并不被输出，但是他们会影响输出文档的效果。这里的控制序列是 documentclass，它后面紧跟着的 {article} 代表这个控制序列有一个必要的参数，该参数的值为 article。这个控制序列的作用，是调用名为 “article” 的文档类。<br>\n",
    "请注意，TeX 对控制序列的大小写是敏感的<br>\n",
    "部分控制序列还有被方括号[]包括的可选参数\n",
    "所谓文档类，即是 TeX 系统预设的（或是用户自定的）一些格式的集合。不同的文档类在输出效果上会有差别。"
   ]
  },
  {
   "cell_type": "markdown",
   "metadata": {},
   "source": [
    "##### 环境\n",
    "其后出现了控制序列 begin，这个控制序列总是与 end 成对出现。这两个控制序列以及他们中间的内容被称为「环境」；他们之后的第一个必要参数总是一致的，被称为环境名。<br>\n",
    "只有在 “document” 环境中的内容，才会被正常输出到文档中去或是作为控制序列对文档产生影响。也就是说，在 \\end{document} 之后插入任何内容都是无效的。<br>"
   ]
  },
  {
   "cell_type": "markdown",
   "metadata": {},
   "source": [
    "##### 导言区\n",
    "\\begin{document} 与 \\documentclass{article} 之间的部分被称为导言区。导言区中的控制序列，通常会影响到整个输出文档。<br>\n",
    "比如，我们通常在导言区设置页面大小、页眉页脚样式、章节标题样式等等"
   ]
  },
  {
   "cell_type": "markdown",
   "metadata": {},
   "source": [
    "##### 注释\n",
    "此处的第二行以 % 开头。在 TeX 风格的文档中，从 “%” 开始，到该行末尾的所有字符，都会被 TeX 系统无视，只作为供人类阅读的注释。除非在 “%” 前加上反斜杠来取消这一特性，例如"
   ]
  },
  {
   "cell_type": "markdown",
   "metadata": {},
   "source": [
    "## 实现中英文混排\n",
    "我们只需要使用几个简单的宏包，就能完成中文支持了。所谓宏包，就是一系列控制序列的合集。这些控制序列太常用，以至于人们会觉得每次将他们写在导言区太过繁琐，于是将他们打包放在同一个文件中，成为所谓的宏包（台湾方面称之为「巨集套件」）。\\usepackage{·}可以用来调用宏包<br>\n",
    "除去中文支持，中文的版式处理和标点禁则也是不小的挑战。好在由吴凌云和江疆牵头，现在主要由刘海洋、李清和??维护的 CTeX 宏集一次性解决了这些问题。CTeX 宏集的优势在于，它适用于多种编译方式；在内部处理好了中文和中文版式的支持，隐藏了这些细节；并且，提供了不少中文用户需要的功能接口。我们来看如何使用 CTeX 宏集来处理中英文混排的文档。"
   ]
  },
  {
   "cell_type": "markdown",
   "metadata": {},
   "source": [
    "## 表格\n",
    "tabular 环境提供了最简单的表格功能。它用 \\hline 命令表示横线，在列格式中用 | 表示竖线；用 & 来分列，用 \\\\ 来换行；每列可以采用居左、居中、居右等横向对齐方式，分别用 l、c、r 来表示。<br>\n",
    "```\n",
    "\\begin{tabular}{|l|c|r|}\n",
    " \\hline\n",
    "操作系统& 发行版& 编辑器\\\\\n",
    " \\hline\n",
    "Windows & MikTeX & TexMakerX \\\\\n",
    " \\hline\n",
    "Unix/Linux & teTeX & Kile \\\\\n",
    " \\hline\n",
    "Mac OS & MacTeX & TeXShop \\\\\n",
    " \\hline\n",
    "通用& TeX Live & TeXworks \\\\\n",
    " \\hline\n",
    "\\end{tabular}\n",
    "```"
   ]
  },
  {
   "cell_type": "code",
   "execution_count": null,
   "metadata": {
    "collapsed": true
   },
   "outputs": [],
   "source": []
  }
 ],
 "metadata": {
  "kernelspec": {
   "display_name": "Py27",
   "language": "python",
   "name": "python2"
  },
  "language_info": {
   "codemirror_mode": {
    "name": "ipython",
    "version": 2
   },
   "file_extension": ".py",
   "mimetype": "text/x-python",
   "name": "python",
   "nbconvert_exporter": "python",
   "pygments_lexer": "ipython2",
   "version": "2.7.13"
  }
 },
 "nbformat": 4,
 "nbformat_minor": 2
}
