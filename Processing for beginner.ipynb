{
 "cells": [
  {
   "cell_type": "markdown",
   "metadata": {},
   "source": [
    "### 本文主要内容来自\n",
    "- https://www.ibm.com/developerworks/cn/opensource/os-datavis/index.html?ca=drs-"
   ]
  },
  {
   "cell_type": "markdown",
   "metadata": {
    "collapsed": true
   },
   "source": [
    "### 下面是比较有趣（基础）的几个点"
   ]
  },
  {
   "cell_type": "markdown",
   "metadata": {},
   "source": [
    "##### 基本操作\n",
    "- size 接受可选的第三个参数 mode。 mode 用来定义要使用的呈现引擎并支持 PDF（直接呈现为 Adobe® PDF 文档）、OPENGL （利用一个可用的 Open-GL 图形适配器）、P3D（为了迅速的 3-D 呈现）等。默认的是 JAVA2D，它最适合于高质量的 2-D 成像\n",
    "- 超出屏幕边界（size 定义的边界外）画线并非不允许，只是被忽略了而已。\n",
    "- 可以使用 set 函数绘制单个像素点。可以通过color来定义某个操作的颜色。可以使用 get 操作来读取显示中的一个给定像素点的颜色。\n",
    "```\n",
    "color c = color( x*2, y*2, 128 );\n",
    "set(x, y, c);\n",
    "```\n",
    "- 用stroke来设定形状颜色，用fill方法来设置填充色\n",
    "\n",
    "##### setup and drop\n",
    "- setup 函数用于初始化，由 Processing 运行时执行一次。通常，setup 函数包含 size 函数（用于定义窗口的边界）以及在操作期间要使用的变量的初始化。Processing 运行时会不断执行 draw 函数。每次 draw 函数结束后，就会在显示窗口绘制一个新的画面，并且 draw 函数也会被再次调用。默认的绘制速度是每秒 60 个画面，但是您也可以通过调用 frameRate 函数来更改这个速度\n",
    "- 可以使用 noLoop 和 draw 来控制在何时绘制画面。noLoop 函数会导致绘制停止，而使用 loop 函数则可以重新开始绘制。通过调用 redraw 可以控制 draw 在何时调用\n",
    "```\n",
    "void setup(){\n",
    "    size(210, 80);\n",
    "    smooth();\n",
    "    frameRate(1); // 一分钟更新一次\n",
    "    PFont font = loadFont(\"...\"); // 读字体文件（vlw），字体文件可通过pde的tools文件创建\n",
    "    textFont(font) //设置字体\n",
    "}\n",
    "```"
   ]
  },
  {
   "cell_type": "markdown",
   "metadata": {},
   "source": [
    "##### 键盘与鼠标\n",
    "- 使用 keyPressed 函数来表示一个按键操作，然后使用回调函数中一个名为 key 的特殊变量来识别用户按下的那个键。当释放一个键时，您可以使用 keyReleased 函数来捕捉这一事件。注意，两个函数都产生相同的信息，但是允许您定义何时触发您的操作。\n",
    "- 对于编码的字符，Processing 将 key 变量设置为 CODED 令牌，以表明必须检查另一个名为 keyCode 的特殊变量。因此，如果 key 不是 CODED，key 变量包含按键。如果 key 是 CODED，keyCode 变量包含实际字符：UP、DOWN、LEFT、RIGHT、ALT、CONTROL 或 SHIFT。\n",
    "```\n",
    "void keyPressed()\n",
    "{\n",
    "  if (key == CODED) {\n",
    "    if (keyCode == DOWN) println(\"Key pressed: Down arrow\");\n",
    "    if (keyCode == SHIFT) println(\"Key pressed: Shift key\");\n",
    "  } else {\n",
    "    println(\"Key pressed: \" + key );\n",
    "  }\n",
    "}\n",
    "```\n",
    "- keyPressed 函数返回一个布尔值，表示有键被按下（True）或无键被按下（False）\n",
    "\n",
    "##### 鼠标\n",
    "- 当用户单击一个鼠标按钮时，mousePressed 回调函数被调用。在回调函数内，您可以通过 mouseButton 变量（LEFT、CENTER、RIGHT）识别特定鼠标按钮。当释放鼠标按钮时，mouseReleased 回调函数被调用。mouseClicked（您可以使用的另一个回调函数）可同时调用\tmousePressed 和 mouseReleased。每次鼠标移动但未点击鼠标按钮时mouseMoved 函数被调用。最后，当鼠标移动且点击鼠标按钮时 mouseDragged 函数被调用\n",
    "- 另外有大量特殊变量可供使用。首先，mouseX 和 mouseY 变量包含鼠标的当前位置。您可以使用 pmouseX 和 pmouseY 变量（从前一帧）捕获鼠标的前一位置。您可以使用 Processing 应用程序内的 mouseClicked 变量来检测当前是否点击了鼠标按钮。将该变量与 mouseButton 结合使用来识别当前点击的按钮"
   ]
  },
  {
   "cell_type": "markdown",
   "metadata": {},
   "source": [
    "##### 图像处理\n",
    "- filter 函数提供预装的图像处理功能，该函数向显示窗口直接应用一种滤波模式。由于 filter 操作显示窗口的内容，您仅需提供滤波模式（要执行的滤波操作类型）和质量（即滤波模式的参数）：filter(BLUR, 2);\n",
    "- 图像可以融合，使用 loadImage 加载两幅图像，然后使用 ADD 模式将 img2 与 img1 融合。在 blend 调用中，指定要与目标图像（img1）融合的源图像（img2）。接下来的 4 个参数是源图像、x 和 y 坐标，以及宽度和高度。紧接的参数是目标图像的左上角坐标和目标图像的宽度和高度。最后定义模式参数：img1.blend( img2, 0, 0, 237, 178, 0, 0, 237, 178, ADD );\n",
    "- 图像融合还存在其他很多的方式，比如，SUBTRACT、DARKEST（采用最暗的像素）、LIGHTEST（采用最浅的像素）、MULTIPLY （暗化图像）。\n",
    "- 最后的图像处理技术采用更手工的方法。在该模式下，您可以逐个操作每个像素。显示窗口由 color 类型的一个 1-D 阵列组成。显示图像后（如清单 7 中的 background 函数所示），您可以通过 loadPixels 函数在显示窗口中访问 pixels 阵列中的像素。loadPixels 函数将显示窗口加载到 pixels 阵列，同时 updatePixels 函数从 pixels 阵列更新显示窗口\n",
    "```\n",
    "void setup() {\n",
    "  size(237, 178);\n",
    "  smooth();\n",
    "}\n",
    " \n",
    "void draw() {\n",
    "  PImage img = loadImage(\"alaska2.png\");\n",
    "  background(img);\n",
    "  loadPixels();\n",
    "  for (int i = 0 ; i < img.width*img.height ; i++) {\n",
    "    color p = pixels[i];\n",
    "    float r = red(p)/2;\n",
    "    float g = green(p);\n",
    "    float b = blue(p);\n",
    "    pixels[i] = color(r, g, b);\n",
    "  }\n",
    "  updatePixels();\n",
    "}\n",
    "```"
   ]
  },
  {
   "cell_type": "markdown",
   "metadata": {},
   "source": [
    "##### 转换\n",
    "- 转换函数，是直接修改坐标系统\n",
    "- translate 函数之后绘制的任何形状都会加上这个偏移量\n",
    "- scale 函数，顾名思义，是实现放大绘图操作\n",
    "- rotate 函数会以左上角（坐标 0,0）为原点旋转图形。如果您希望旋转已有的对象，那么您需要更新这个对象对应的坐标系统。要做到这一点，您需要使用 translate 函数来调整坐标系统，然后重新绘制您要旋转的正方形（通过修改 x 和 y 坐标）\n",
    "```\n",
    "size(200, 200);\n",
    "rect(100, 100, 50, 50);\n",
    "translate(100, 100);\n",
    "rotate(PI/16);\n",
    "rect(0, 0, 50, 50);\n",
    "```\n",
    "- 矩形的默认绘制模式是 CORNERS，这表示左上角是由 rect 的 x 和 y 参数定义的。如果您将模式修改为 CENTER（其中 rect 的 x 和 y 参数定义的是中心），那么您就能够绘制正方形并以其中心为原点进行旋转。\n",
    "- 您可以通过调用 pushMatrix 保存内部的坐标矩阵，然后使用 popMatrix 恢复它们。由于这些函数都使用堆栈语法，所以您可以对形状应用层次转换，并在后面将它们删除，以恢复原有矩阵"
   ]
  },
  {
   "cell_type": "markdown",
   "metadata": {},
   "source": [
    "##### 3D\n",
    "```\n",
    "size(100, 100, P3D);\n",
    "background(0);\n",
    "noStroke();\n",
    "pointLight(50, 100, 180, 80, 20, 40);\n",
    "translate(20, 50, 0);\n",
    "rotateY(map(mouseX, 0, width, -PI, PI));\n",
    "sphere(40);\n",
    "```\n",
    "- rotate 函数。这些函数允许您按一个指定轴旋转。第一个立方体是围绕 y 轴旋转，而第二个立方体则围绕 x 轴旋转。旋转的参数是由特定轴上鼠标位置确定的。先读取鼠标值，然后映射（通过 map 函数）到旋转范围 -PI 至 PI。\n",
    "- pointLight 函数提供了一个更简单的光线函数（而不是 ambientLight），但是 Processing 支持对光线进行更多控制。spotLight 函数可以更多地控制聚光灯。例如，除了位置、方向和光线颜色，它还能够控制 spotlight 锥角和锥体离心值。directionalLight 函数支持将光线聚焦到一个特定方向，并支持更多基于光线方向和角度变化的自然光。"
   ]
  },
  {
   "cell_type": "markdown",
   "metadata": {},
   "source": [
    "##### 物理\n",
    "```\n",
    "float x, y, z;          // Current Position\n",
    "float velocity = 120.0; // Muzzle velocity;\n",
    "float alpha = 30.0;     // Angle from y-axis\n",
    "float gamma = 60.0;     // Angle from x-axis\n",
    "float g = 9.8;          // Acceleration due to gravity (m/s^2)\n",
    "float time = 0.0;\n",
    "float dt = 0.1;\n",
    "float rotX = 0.0, rotY = 0.0;\n",
    " \n",
    "void setup() {\n",
    "  size(300, 400, P3D);\n",
    "  smooth();\n",
    "  x = 0.0; y = 0.0; z = 0.0;\n",
    "}\n",
    " \n",
    " \n",
    "void draw() {\n",
    "  float b, Lx, Ly, Lz;\n",
    "  time += dt;\n",
    "   \n",
    "  background(0);\n",
    "   \n",
    "  // Calculate cosines for the cannon orientation (static)\n",
    "  b = cos((90.0-alpha) * 3.14/180.0);\n",
    "  Lx = b * cos(gamma * 3.14/180.0);\n",
    "  Ly = cos(alpha * 3.14/180.0);\n",
    "  Lz = b * sin(gamma * 3.14/180.0);\n",
    "  \n",
    "  // Calculate the position of the box at the given time\n",
    "  x = velocity * Lx * time;\n",
    "  y = (cos(alpha*3.14/180.0)) + (velocity * Ly * time) - \n",
    "    (0.5 * g * time * time);\n",
    "  z = velocity * Lz * time;\n",
    " \n",
    "  // Rotate the box around the x- and y-axis.\n",
    "  rotX += PI/256.0;\n",
    "  rotY += PI/128.0;\n",
    " \n",
    "  // Create two light sources (one blue and one red)\n",
    "  pointLight(0, 100, 255, 0, 0, 0);\n",
    "  pointLight(255, 0, 0, 400, 400, 0);\n",
    " \n",
    "  println(\"x \" + x + \" y \" + y + \" z \" + z );\n",
    " \n",
    "  // Place the box in the display\n",
    "  pushMatrix();\n",
    "  translate(100, 400-y, -z);\n",
    "  rotateX(rotX); rotateY(rotY);\n",
    "  box(90);  \n",
    "  popMatrix();\n",
    "}\n",
    "```"
   ]
  },
  {
   "cell_type": "code",
   "execution_count": null,
   "metadata": {
    "collapsed": true
   },
   "outputs": [],
   "source": []
  }
 ],
 "metadata": {
  "kernelspec": {
   "display_name": "Py27",
   "language": "python",
   "name": "python2"
  },
  "language_info": {
   "codemirror_mode": {
    "name": "ipython",
    "version": 2
   },
   "file_extension": ".py",
   "mimetype": "text/x-python",
   "name": "python",
   "nbconvert_exporter": "python",
   "pygments_lexer": "ipython2",
   "version": "2.7.13"
  }
 },
 "nbformat": 4,
 "nbformat_minor": 2
}
