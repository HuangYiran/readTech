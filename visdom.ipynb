{
 "cells": [
  {
   "cell_type": "markdown",
   "metadata": {},
   "source": [
    "本文内容主要来自：\n",
    "- http://blog.csdn.net/u012436149/article/details/69389610\n",
    "- https://github.com/facebookresearch/visdom\n",
    "- https://ptorch.com/news/77.html"
   ]
  },
  {
   "cell_type": "markdown",
   "metadata": {},
   "source": [
    "### 简介\n",
    "visdom能够促进远程数据的可视化，主要被适用于科学实验中。<br>\n",
    "他可以：\n",
    "- 向您和您的同伴发送可视化图像，图片和文本。\n",
    "- 通过编程组织您的可视化空间，\n",
    "- 或者通过UI为实时数据创建dashboards，检查实验的结果，或者debug实验代码"
   ]
  },
  {
   "cell_type": "markdown",
   "metadata": {},
   "source": [
    "### 用法\n",
    "在命令行中输入下列语句来启动服务器：<br>\n",
    "python -m  visdom.server<br>\n",
    "现在就可以通过访问http://localhost:8097 来访问visdom了。<br>\n",
    "下面看一个python的例子："
   ]
  },
  {
   "cell_type": "code",
   "execution_count": 3,
   "metadata": {
    "collapsed": false
   },
   "outputs": [
    {
     "data": {
      "text/plain": [
       "u'window_35c0ab795270ae'"
      ]
     },
     "execution_count": 3,
     "metadata": {},
     "output_type": "execute_result"
    }
   ],
   "source": [
    "import visdom\n",
    "import numpy as np\n",
    "vis = visdom.Visdom()\n",
    "vis.text('Hello, world!')\n",
    "vis.image(np.ones((3, 10, 10)))"
   ]
  },
  {
   "cell_type": "markdown",
   "metadata": {},
   "source": [
    "## 常用的方法\n",
    "##### vis.close\n",
    "通过ID关闭一个窗口\n",
    "##### vis.win_exists\n",
    "通过id检查一个窗口是否已经存在\n",
    "##### vis.check_connection\n",
    "检查服务器是否连接\n",
    "##### vis.image\n",
    "画图片img。<br>\n",
    "输入：（C, H, W）的tensor<br>\n",
    "可选参数：<br>\n",
    "- opts.jpgquality: int类型，值域是【0，100】，默认值是100\n",
    "- opts.caption： 图片的标题\n",
    "\n",
    "##### vis.images\n",
    "同时画多张相同大小的图片<br>\n",
    "输入：（B, C, H, W）<br>\n",
    "可选参数：\n",
    "- nrow: 每行图片的数量\n",
    "- padding: 是否在图片之间加入padding\n",
    "- opts.jpgquality\n",
    "- opts.caption\n",
    "\n",
    "##### vis.text\n",
    "在一个窗口中输出一串字符。可以在这里嵌入任何形式的HTML。<br>\n",
    "输入：str\n",
    "##### vis.video\n",
    "播放一段video。<br>\n",
    "输入：<br>\n",
    "- str 文件的名字\n",
    "- 或者： (L, H, W, C) tensor 包含video中的每个帧的信息。\n",
    "\n",
    "可选参数：\n",
    "- opts.fps：int类型 指定video的fps，要求是大于零的整数，默认值是25\n",
    "\n",
    "##### vis.svg\n",
    "画一个SVG对象<br>\n",
    "输入：\n",
    "- SVG string\n",
    "- 或者 svg文件的名字\n",
    "\n",
    "##### vis.save\n",
    "这个方法用于保存visdom服务器上的还存活的envs。<br>\n",
    "输入：list 保存要保存的envs的id"
   ]
  },
  {
   "cell_type": "markdown",
   "metadata": {},
   "source": [
    "## Plotting\n",
    "详细的plot信息请查看下面这个链接<br>\n",
    "https://github.com/facebookresearch/visdom#visscatter"
   ]
  },
  {
   "cell_type": "markdown",
   "metadata": {},
   "source": [
    "### visdom界面\n",
    "Visdom有一组简单的特性，可以用他们组合成不同的用例\n",
    "#### Panes\n",
    "UI刚开始是个白板。您可以使用图片，图片，文本来填充他。这些填充的数据出现在Panes中，您可以对这些Panes进行拖放，删除，调整大小或销毁操作。<br>\n",
    "Panes是保存在envs中的，envs状态存储在会话之间。\n",
    "\n",
    "#### Environment\n",
    "您可以用envs对可视化空间进行分区。默认地，每个用户都会有一个叫做main的envs。可以通过编程或UI创建新的envs。envs的状态时长期保存的。<br>\n",
    "您可以通过url: http://localhost.com:8097/env/main 来范文特定的env。<br>\n",
    "如果您的服务器是被托管的，那么您可以将此url分享给其他人，那么其他人也会看到您的可视化效果。<br>\n",
    "管理Envs：在初始化服务器的时候，您的envs默认通过$HOME/.visdom/加载。您也可以将自定义的路径当作命令行参数传入。如果您溢出了Env文件夹下的json文件，那么相应的环境也会被删除。\n",
    "\n",
    "#### State\n",
    "当其实现了某些可视化效果之后，对应的state也会被记录起来。服务器会自动为你所有的可视化效果进行缓存。换句话说，当你重新加载页面的时候，你不会丢失这些可视化信息。\n",
    "##### 保存：\n",
    "您可以save按钮手动的执行此操作。这将会序列化env的状态，包括窗口的位置（以JSON形式保存在磁盘）。当然你也可以通过编程来完成这个操作。\n",
    "##### fork：\n",
    "如果您输入一个新的env名字，save操作会创建一个新的env\n",
    "\n",
    "#### filter\n",
    "您可以使用filter动态刷选env中的窗口，只要提供一个正则表达式来匹配您要显示的窗口的标题。这可以有助于涉及env与多个窗口的情况。\n",
    "\n"
   ]
  },
  {
   "cell_type": "code",
   "execution_count": null,
   "metadata": {
    "collapsed": true
   },
   "outputs": [],
   "source": []
  }
 ],
 "metadata": {
  "kernelspec": {
   "display_name": "Py27",
   "language": "python",
   "name": "python2"
  },
  "language_info": {
   "codemirror_mode": {
    "name": "ipython",
    "version": 2
   },
   "file_extension": ".py",
   "mimetype": "text/x-python",
   "name": "python",
   "nbconvert_exporter": "python",
   "pygments_lexer": "ipython2",
   "version": "2.7.13"
  }
 },
 "nbformat": 4,
 "nbformat_minor": 2
}
