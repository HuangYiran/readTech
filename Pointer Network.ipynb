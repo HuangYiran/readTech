{
 "cells": [
  {
   "cell_type": "markdown",
   "metadata": {},
   "source": [
    "本文主要内容来自：\n",
    "- https://www.youtube.com/watch?v=IzHoNwlCGnE&list=PLJV_el3uVTsPMxPbjeX7PicgWbY7F8wW9"
   ]
  },
  {
   "cell_type": "markdown",
   "metadata": {},
   "source": [
    "### 介绍\n",
    "![pn1]()\n",
    "如上图给定10个data point，我们的目标是找出几个点，使得这些点连接起来后，能把其他所有的点包围在其中。<br>\n",
    "那么这个问题应该如何解呢：<br>\n",
    "我们知道input和output都是sequence，似乎我们可以用encoder，decoder来解决这个问题，只是把输入和输出改为点。<br>\n",
    "但是这样存在的问题是，因为在实际应用中输入和输出的点的数量是不一定的。这对于输入来说问题不到，但是输出由于softmax的对象的个数是一定的，当输出从50提升到100的时候，是没办法得到编号51~100的点的<br>\n",
    "为了解决这个问题，我们提出了pointer network：\n",
    "![pn2]()\n",
    "如上图，我们使用Attention机制的输出，直接做为输出的结果。这样做的好处是，当你输入的大小改变的时候，相应的输出大小也改变了。\n",
    "### 其他的应用\n",
    "![pn3]()\n",
    "在做summarization的时候，总结的很大部分的词汇是人名地名，这些词汇在目标词汇集中，可能是不存在的。这时候，我们可以尝试使用pointer network。和上面的例子一样，我们使用Attention机制来产生一个输出，而另一方面，使用decoder产生一个distribution，然后通过一个gate(这里是$p_{gen}$)来合并这两个输出。\n",
    "![pn4]()\n",
    "相似的也可以用在翻译上，因为翻译中有很多专有名词，我们就可以通过pointer network把这些名词直接作为输出，输送到结果上。<br>\n",
    "同样，也可以应用到chat bot上。 像图中的例子，通过pointer network，机器人就会把名字直接拿过来使用。"
   ]
  }
 ],
 "metadata": {
  "kernelspec": {
   "display_name": "Py27",
   "language": "python",
   "name": "python2"
  },
  "language_info": {
   "codemirror_mode": {
    "name": "ipython",
    "version": 2
   },
   "file_extension": ".py",
   "mimetype": "text/x-python",
   "name": "python",
   "nbconvert_exporter": "python",
   "pygments_lexer": "ipython2",
   "version": "2.7.13"
  }
 },
 "nbformat": 4,
 "nbformat_minor": 2
}
