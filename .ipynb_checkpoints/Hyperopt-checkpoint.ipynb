{
 "cells": [
  {
   "cell_type": "markdown",
   "metadata": {},
   "source": [
    "本文大部分内容来自：\n",
    "- http://hyperopt.github.io/hyperopt/\n",
    "- https://www.jiqizhixin.com/articles/2017-08-21-7"
   ]
  },
  {
   "cell_type": "markdown",
   "metadata": {},
   "source": [
    "## 动机\n",
    "深度网络的超参数往往会比较多，如何选取合适的值，则成为一个很困扰的问题。比如，这里是卷积神经元中的一些经典的超参数，究竟应该选哪个，希望这篇文章能提供解决的方法：\n",
    "![hyperparam](https://raw.githubusercontent.com/HuangYiran/readPaper/master/fotos/hyperParameter.png)"
   ]
  },
  {
   "cell_type": "markdown",
   "metadata": {},
   "source": [
    "## 几种可能的方法\n",
    "- 启动网格搜索grid search，尝试检查每种可能的参数组合，当有一种组合优化了你的标准时，就停止搜索。这种方法一般比较耗时。它有个致命缺点，在高纬度会发生维度灾难\n",
    "- 可以使用随机搜索，这种方法可以随机检查超参数的空间，但速度更快而且大多时候也更好\n",
    "- 贝叶斯优化--我们为超参数设置一个先决条件，然后在观察不同实验的同时逐步更新他，这让我们可以更合理的拟合超参数空间，从而更好的找到最小值。它的本质其实是一种回归模型，即利用回归模型预测的函数值来选择下一个搜索点。贝叶斯优化有两个主要的要素：目标函数（objective function）和代理模型（surrogate model）。"
   ]
  },
  {
   "cell_type": "code",
   "execution_count": null,
   "metadata": {
    "collapsed": true
   },
   "outputs": [],
   "source": [
    "贝叶斯优化算法简化\n",
    "选取m个点x1,..xm作为prior，假设他们服从多变量高斯分布\n",
    "for t=1,2...n do\n",
    "  最大化AF求得下一个采样点x0\n",
    "  采样目标函数位于x0处的值y0\n",
    "  假设x0,x1....xm服从多变量高斯分布\n",
    "# 其中AF是收获函数"
   ]
  },
  {
   "cell_type": "markdown",
   "metadata": {},
   "source": [
    "## Hyperopt"
   ]
  },
  {
   "cell_type": "markdown",
   "metadata": {},
   "source": [
    "Hyperopt库为python中的模型选择和参数优化提供了算法和并行方案。机器学习常见的模型有KNN,SVM，PCA，决策树，GBDT等一系列的算法，但是在实际应用中，我们需要选取合适的模型，并对模型调参，得到一组合适的参数。尤其是在模型的调参阶段，需要花费大量的时间和精力，却又效率低下。但是我们可以换一个角度来看待这个问题，模型的选取，以及模型中需要调节的参数，可以看做是一组变量，模型的质量标准（比如正确率，AUC）等等可以看做是目标函数，这个问题就是超参数的优化的问题。我们可以使用搜索算法来解决。"
   ]
  },
  {
   "cell_type": "markdown",
   "metadata": {},
   "source": [
    "Hyperopt提供了一个优化接口，这个接口接受一个评估函数和参数空间，能计算出参数空间内的一个点的损失函数值。用户还要指定空间内参数的分布情况。<br> \n",
    "Hyheropt四个重要的因素：\n",
    "- 指定需要最小化的函数 \n",
    "- 指定进行搜索的空间\n",
    "- 采样的数据集(trails database)（可选）(使用mongodb可以实现并行)\n",
    "- 搜索的算法（可选）"
   ]
  },
  {
   "cell_type": "markdown",
   "metadata": {},
   "source": [
    "### 定义函数\n",
    "在定义函数的时候，主要要考虑一下三个方面：\n",
    "- 除了函数返回的数值外，是否要保持其他有用的统计数据\n",
    "- 优化算法，是否要用到除了函数返回值之外的其他数据\n",
    "- Do you want to communicate between parallel processes?(e.g. other workers, or the minimization algorithm???)\n",
    "\n",
    "##### 最简单的情况\n",
    "hyperopt优化算法和目标方程之间，最简单的一种协议就是，目标方程使用搜索空间中的一个点作为输入，输出其对应的loss"
   ]
  },
  {
   "cell_type": "code",
   "execution_count": null,
   "metadata": {
    "collapsed": true
   },
   "outputs": [],
   "source": [
    "# 安装hyperopt\n",
    "pip install hyperopt"
   ]
  },
  {
   "cell_type": "code",
   "execution_count": 5,
   "metadata": {
    "collapsed": false
   },
   "outputs": [
    {
     "ename": "TypeError",
     "evalue": "'generator' object has no attribute '__getitem__'",
     "output_type": "error",
     "traceback": [
      "\u001b[0;31m---------------------------------------------------------------------------\u001b[0m",
      "\u001b[0;31mTypeError\u001b[0m                                 Traceback (most recent call last)",
      "\u001b[0;32m<ipython-input-5-3bd4aa1a1eda>\u001b[0m in \u001b[0;36m<module>\u001b[0;34m()\u001b[0m\n\u001b[1;32m      3\u001b[0m            \u001b[0mspace\u001b[0m \u001b[0;34m=\u001b[0m \u001b[0mhp\u001b[0m\u001b[0;34m.\u001b[0m\u001b[0muniform\u001b[0m\u001b[0;34m(\u001b[0m\u001b[0;34m'x'\u001b[0m\u001b[0;34m,\u001b[0m \u001b[0;34m-\u001b[0m\u001b[0;36m10\u001b[0m\u001b[0;34m,\u001b[0m \u001b[0;36m10\u001b[0m\u001b[0;34m)\u001b[0m\u001b[0;34m,\u001b[0m\u001b[0;34m\u001b[0m\u001b[0m\n\u001b[1;32m      4\u001b[0m            \u001b[0malgo\u001b[0m \u001b[0;34m=\u001b[0m \u001b[0mtpe\u001b[0m\u001b[0;34m.\u001b[0m\u001b[0msuggest\u001b[0m\u001b[0;34m,\u001b[0m\u001b[0;34m\u001b[0m\u001b[0m\n\u001b[0;32m----> 5\u001b[0;31m            max_evals = 100)\n\u001b[0m\u001b[1;32m      6\u001b[0m \u001b[0;32mprint\u001b[0m \u001b[0mbest\u001b[0m\u001b[0;34m\u001b[0m\u001b[0m\n",
      "\u001b[0;32m/Users/ihuangyiran/anaconda2/envs/py27/lib/python2.7/site-packages/hyperopt/fmin.pyc\u001b[0m in \u001b[0;36mfmin\u001b[0;34m(fn, space, algo, max_evals, trials, rstate, allow_trials_fmin, pass_expr_memo_ctrl, catch_eval_exceptions, verbose, return_argmin)\u001b[0m\n\u001b[1;32m    312\u001b[0m \u001b[0;34m\u001b[0m\u001b[0m\n\u001b[1;32m    313\u001b[0m     domain = base.Domain(fn, space,\n\u001b[0;32m--> 314\u001b[0;31m                          pass_expr_memo_ctrl=pass_expr_memo_ctrl)\n\u001b[0m\u001b[1;32m    315\u001b[0m \u001b[0;34m\u001b[0m\u001b[0m\n\u001b[1;32m    316\u001b[0m     rval = FMinIter(algo, domain, trials, max_evals=max_evals,\n",
      "\u001b[0;32m/Users/ihuangyiran/anaconda2/envs/py27/lib/python2.7/site-packages/hyperopt/base.pyc\u001b[0m in \u001b[0;36m__init__\u001b[0;34m(self, fn, expr, workdir, pass_expr_memo_ctrl, name, loss_target)\u001b[0m\n\u001b[1;32m    784\u001b[0m         \u001b[0mbefore\u001b[0m \u001b[0;34m=\u001b[0m \u001b[0mpyll\u001b[0m\u001b[0;34m.\u001b[0m\u001b[0mdfs\u001b[0m\u001b[0;34m(\u001b[0m\u001b[0mself\u001b[0m\u001b[0;34m.\u001b[0m\u001b[0mexpr\u001b[0m\u001b[0;34m)\u001b[0m\u001b[0;34m\u001b[0m\u001b[0m\n\u001b[1;32m    785\u001b[0m         \u001b[0;31m# -- raises exception if expr contains cycles\u001b[0m\u001b[0;34m\u001b[0m\u001b[0;34m\u001b[0m\u001b[0m\n\u001b[0;32m--> 786\u001b[0;31m         \u001b[0mpyll\u001b[0m\u001b[0;34m.\u001b[0m\u001b[0mtoposort\u001b[0m\u001b[0;34m(\u001b[0m\u001b[0mself\u001b[0m\u001b[0;34m.\u001b[0m\u001b[0mexpr\u001b[0m\u001b[0;34m)\u001b[0m\u001b[0;34m\u001b[0m\u001b[0m\n\u001b[0m\u001b[1;32m    787\u001b[0m         \u001b[0mvh\u001b[0m \u001b[0;34m=\u001b[0m \u001b[0mself\u001b[0m\u001b[0;34m.\u001b[0m\u001b[0mvh\u001b[0m \u001b[0;34m=\u001b[0m \u001b[0mVectorizeHelper\u001b[0m\u001b[0;34m(\u001b[0m\u001b[0mself\u001b[0m\u001b[0;34m.\u001b[0m\u001b[0mexpr\u001b[0m\u001b[0;34m,\u001b[0m \u001b[0mself\u001b[0m\u001b[0;34m.\u001b[0m\u001b[0ms_new_ids\u001b[0m\u001b[0;34m)\u001b[0m\u001b[0;34m\u001b[0m\u001b[0m\n\u001b[1;32m    788\u001b[0m         \u001b[0;31m# -- raises exception if v_expr contains cycles\u001b[0m\u001b[0;34m\u001b[0m\u001b[0;34m\u001b[0m\u001b[0m\n",
      "\u001b[0;32m/Users/ihuangyiran/anaconda2/envs/py27/lib/python2.7/site-packages/hyperopt/pyll/base.pyc\u001b[0m in \u001b[0;36mtoposort\u001b[0;34m(expr)\u001b[0m\n\u001b[1;32m    713\u001b[0m         \u001b[0mG\u001b[0m\u001b[0;34m.\u001b[0m\u001b[0madd_edges_from\u001b[0m\u001b[0;34m(\u001b[0m\u001b[0;34m[\u001b[0m\u001b[0;34m(\u001b[0m\u001b[0mn_in\u001b[0m\u001b[0;34m,\u001b[0m \u001b[0mnode\u001b[0m\u001b[0;34m)\u001b[0m \u001b[0;32mfor\u001b[0m \u001b[0mn_in\u001b[0m \u001b[0;32min\u001b[0m \u001b[0mnode\u001b[0m\u001b[0;34m.\u001b[0m\u001b[0minputs\u001b[0m\u001b[0;34m(\u001b[0m\u001b[0;34m)\u001b[0m\u001b[0;34m]\u001b[0m\u001b[0;34m)\u001b[0m\u001b[0;34m\u001b[0m\u001b[0m\n\u001b[1;32m    714\u001b[0m     \u001b[0morder\u001b[0m \u001b[0;34m=\u001b[0m \u001b[0mnx\u001b[0m\u001b[0;34m.\u001b[0m\u001b[0mtopological_sort\u001b[0m\u001b[0;34m(\u001b[0m\u001b[0mG\u001b[0m\u001b[0;34m)\u001b[0m\u001b[0;34m\u001b[0m\u001b[0m\n\u001b[0;32m--> 715\u001b[0;31m     \u001b[0;32massert\u001b[0m \u001b[0morder\u001b[0m\u001b[0;34m[\u001b[0m\u001b[0;34m-\u001b[0m\u001b[0;36m1\u001b[0m\u001b[0;34m]\u001b[0m \u001b[0;34m==\u001b[0m \u001b[0mexpr\u001b[0m\u001b[0;34m\u001b[0m\u001b[0m\n\u001b[0m\u001b[1;32m    716\u001b[0m     \u001b[0;32mreturn\u001b[0m \u001b[0morder\u001b[0m\u001b[0;34m\u001b[0m\u001b[0m\n\u001b[1;32m    717\u001b[0m \u001b[0;34m\u001b[0m\u001b[0m\n",
      "\u001b[0;31mTypeError\u001b[0m: 'generator' object has no attribute '__getitem__'"
     ]
    }
   ],
   "source": [
    "from hyperopt import fmin, tpe, hp\n",
    "best = fmin(fn = lambda x: x ** 2,\n",
    "           space = hp.uniform('x', -10, 10), \n",
    "           algo = tpe.suggest,\n",
    "           max_evals = 100)\n",
    "print best"
   ]
  },
  {
   "cell_type": "markdown",
   "metadata": {},
   "source": [
    "不知道为什么会这样，本地运行是没有问题的。输出{'x': -0.008370279913737733}<br>\n",
    "这种方法的缺点是：\n",
    "- 没有办法返回额外的信息\n",
    "- 没办法实现和优化方法之间的互动"
   ]
  },
  {
   "cell_type": "markdown",
   "metadata": {},
   "source": [
    "##### 通过Trials对象，增添额外的信息\n",
    "当你的目标函数比较复杂，要求花费比较多的时间进行运行的时候，你可能会想，除了目标函数的输出之外，存储其他有用的统计信息。在这种情况下，我们可以改写目标函数，使得他可以返回dict类型的数据。并在这个词典类型中包含你所需要的统计信息。但需要注意的是，这个词典类型应该满足一定的条件。比如，对于mongodb来说，这个词典类型数据就必须符合JSON文档要求。<br>\n",
    "当目标函数返回的是词典类型的时候，fmin会获取其中的一些特定的key-value对，并把这个值传递给优化算法。两个指定的key-value对是：\n",
    "- status: 对应hyperopt.STATUS_STRINGS，比如ok代表成功完成，fail代表函数未定义？？？？\n",
    "- loss: 要求进行最小化的，浮点型的函数值。当status是ok的时候，这个值必须存在。\n",
    "\n",
    "除此之外，还有一些可选的、常用的、设置好的key：\n",
    "- attachments: 对应的value是一个词典类，其中的项，通常是短字符串和长字符串的对，一般短字符串代表一个文件的名称，而长字符串代表其对应的内容。这些数据在定义的时候，就会被存入内存，从而避免每次从数据库中读取数据的时候，都要重复读取。另外，像mongodb这些数据库对其中value的大小都是有限定的，也就是说，当你的项是mb大小的时候，你就不得不把他们弄成attachment了。(不明白，把他放入数据库的record中，是因为要不对的进行改变，尝试，但是如果用attachment的话，不是就固定是一个值了吗，那么还有什么意义。直接在目标函数中进行处理不就可以了吗？？)\n",
    "- loss_variance: 浮点类型，代表概率目标函数的不确定性。（这个真得自己算吗？？，扔这有什么意义。）\n",
    "- true_loss: When doing hyper-parameter optimization, if you store the generalization error of your model with this name, then you sometimes get spiffier output from the build-in plotting routines.(就是指generalization error吗)\n",
    "- true_loss_variance: float- the uncertainty in the generalization error"
   ]
  },
  {
   "cell_type": "code",
   "execution_count": null,
   "metadata": {
    "collapsed": true
   },
   "outputs": [],
   "source": [
    "import pickle\n",
    "import time\n",
    "from hyperopt import fmin, tpe, hp, STATUS_OK\n",
    "\n",
    "def objective(x):\n",
    "    return {'loss': x ** 2,\n",
    "           'status': STATUS_OK}\n",
    "\n",
    "best = fmin(objective,\n",
    "            space = hp.uniform('x', -10, 10),\n",
    "            algo = tpe.suggest,\n",
    "            max_evalas = 100)"
   ]
  },
  {
   "cell_type": "markdown",
   "metadata": {},
   "source": [
    "##### Trail对象"
   ]
  },
  {
   "cell_type": "code",
   "execution_count": null,
   "metadata": {
    "collapsed": true
   },
   "outputs": [],
   "source": [
    "import pickle\n",
    "import time\n",
    "from hyperopt import fmin, tpe, hp, STATUS_OK, Trials\n",
    "\n",
    "def objective(x):\n",
    "    return{\n",
    "        'loss': x**2,\n",
    "        'status': STATUS_OK,\n",
    "        # -- store other results like this\n",
    "        'eval_time':time:time()\n",
    "        'other_stuff':{'type':None, 'value':[0, 1, 2]}\n",
    "        # -- attachments are handled differently\n",
    "        'attachemnts':{\n",
    "            'time_module': pickle.dumps(time.time)\n",
    "        }\n",
    "    }\n",
    "\n",
    "trials = Trials()\n",
    "best = fime(objective,\n",
    "            space = hp.uniform('x', -10, 10),\n",
    "            algo = tpe.suggest,\n",
    "            max_evals = 100,\n",
    "            trials = trials)\n",
    "print best"
   ]
  },
  {
   "cell_type": "markdown",
   "metadata": {},
   "source": [
    "通过加入trials，可以实现在实验的过程中，访问目标函数的返回值:\n",
    "- trials.trials: a list of dictionaries representing everything about the search\n",
    "- trials.results: a list of dictionaries returned by 'objective' during the search\n",
    "- trials.losses(): a list of losses(float for each 'ok' trial)\n",
    "- trials.statuses(): a list of status strings\n",
    "\n",
    "The trials object can be saved, passed on to the built-in plotting routines, or analyzed with your own custom code.\n",
    "##### The Ctrl Object for Realtime Communication with MongoDB\n",
    "?????"
   ]
  },
  {
   "cell_type": "markdown",
   "metadata": {},
   "source": [
    "## 定义搜索空间\n",
    "一个搜索空间由一个或多个相互嵌套的函数表达组合而成。（这些函数表达，包括概率表达式）"
   ]
  },
  {
   "cell_type": "code",
   "execution_count": null,
   "metadata": {
    "collapsed": true
   },
   "outputs": [],
   "source": [
    "from hyperopt import hp\n",
    "space = hp.choice('a',\n",
    "                 [\n",
    "                     ('case1', 1 + hp.lognormal('c1', 0, 1)),\n",
    "                     ('case2', hp.uniform('c2', -10, 10))\n",
    "                 ])"
   ]
  },
  {
   "cell_type": "markdown",
   "metadata": {},
   "source": [
    "你可以哦谈过pyll来，获取这个空间中的一个实例："
   ]
  },
  {
   "cell_type": "code",
   "execution_count": null,
   "metadata": {
    "collapsed": true
   },
   "outputs": [],
   "source": [
    "import hyperopt.pyll.stochastic\n",
    "print hyperopt.pyll.stochastic.sample(space)"
   ]
  },
  {
   "cell_type": "markdown",
   "metadata": {},
   "source": [
    "#### 常用的参数表达式\n",
    "- hp.choice(label, options): options可以是一个list也可以是一个tuple。这个函数返回一个选项。\n",
    "- hp.randint(label, upper): 返回[0, upper)中的一个整数。\n",
    "- hp.uniform(label, low, high): Returns a value uniformly between low and high. \n",
    "    - When optimizing, this variable is constrained to a two-sided interval.????\n",
    "- hp.quniform(label, low, high, q): 返回round(uniform(low, high)/q)*q。\n",
    "    - Suitable for a discrete value with respect to which the objective is still somewhat \"smooth\", but which should be bounded both above and below。\n",
    "- hp.loguniform(label, low, high): 返回exp(uniform(low, high))。 \n",
    "    - When optimizing, this variable is constrained to the interval [exp(low), wxp(high)]\n",
    "- hp.qloguniform: 返回round(exp(uniform(low, high))/q)*q。\n",
    "    - Suitable for a discrete variable with respect to which the objective is \"smooth\" and gets smoother with the size of the value, but which should be bounded both above and below.\n",
    "- hp.normal(label, mu, sigma)\n",
    "- hp.qnormal(label, mu , sigma , q): 返回rount(normal(mu, sigma)/q)*q。\n",
    "    - Suitable for a discrete variable  that probably takes a value around mu, but is fundamentally unbounded.\n",
    "- hp.lognormal(label, mu, sigma): 返回exp(normal(mu, sigma))\n",
    "- hp.qlognormal(label, mu, sigma, q): 返回round(exp(normal(mu, sigma))/q)*q"
   ]
  },
  {
   "cell_type": "markdown",
   "metadata": {},
   "source": [
    "#### 一个关于搜索空间的例子"
   ]
  },
  {
   "cell_type": "code",
   "execution_count": null,
   "metadata": {
    "collapsed": true
   },
   "outputs": [],
   "source": [
    "from hyperopt import hp\n",
    "space = hp.choice('classifier_type',[\n",
    "    {\n",
    "        'type': 'naive_bayes',\n",
    "    },\n",
    "    {\n",
    "        'type': 'svm',\n",
    "        'C': hp.lognormal('sum_C', 0, 1),\n",
    "        'kernel': hp.choice('svm_kernel', [\n",
    "            {'ktype': 'linear'},\n",
    "            {'ktype': 'RBF', 'width': hp.lognormal('svm_rbf_width', 0, 1)}\n",
    "        ])\n",
    "    },\n",
    "    {\n",
    "        'type': 'dtree',\n",
    "        'criterion': hp.choice('dtree_criterion', ['gini', 'entropy']),\n",
    "        'max_depth': hp.choice('dtree_max_depth',\n",
    "                               [None, hp.qlognormal('dtree_max_depth_int', 3, 1, 1)]),\n",
    "        'min_samples_split': hp.qlognormal('dtree_min_samples_split', 2, 1, 1),\n",
    "    },\n",
    "])"
   ]
  },
  {
   "cell_type": "markdown",
   "metadata": {},
   "source": [
    "#### Adding Non-Stochastic Expressions with pyll\n",
    "???\n",
    "#### Adding new Kinds of Hyperparameter\n",
    "???"
   ]
  },
  {
   "cell_type": "markdown",
   "metadata": {},
   "source": [
    "## 其他补充"
   ]
  },
  {
   "cell_type": "markdown",
   "metadata": {},
   "source": [
    "搜索算法本身也有内置的参数决定如何去优化目标函数，我们可以指定搜索算法的参数，比如针对TPE，指定jobs："
   ]
  },
  {
   "cell_type": "code",
   "execution_count": null,
   "metadata": {
    "collapsed": true
   },
   "outputs": [],
   "source": [
    "from functools import partial\n",
    "from hyperopt import hp, fmin, tpe\n",
    "algo = partial(tpe.suggest, n_startup_jobs=10)\n",
    "best = fmin(q, space, algo=algo)\n",
    "print space_eval(space, best)"
   ]
  },
  {
   "cell_type": "markdown",
   "metadata": {},
   "source": [
    "关于参数空间的设置，比如优化函数q，输入fmin(q,space=hp.uniform(‘a’,0,1)).hp.uniform函数的第一个参数是标签，每个超参数在参数空间内必须具有独一无二的标签。hp.uniform指定了参数的分布。其他的参数分布比如 <br>\n",
    "hp.choice返回一个选项，选项可以是list或者tuple.options可以是嵌套的表达式，用于组成条件参数。 <br>\n",
    "hp.pchoice(label,p_options)以一定的概率返回一个p_options的一个选项。这个选项使得函数在搜索过程中对每个选项的可能性不均匀。 <br>\n",
    "hp.uniform(label,low,high)参数在low和high之间均匀分布。 <br>\n",
    "hp.quniform(label,low,high,q),参数的取值是round(uniform(low,high)/q)*q，适用于那些离散的取值。 <br>\n",
    "hp.loguniform(label,low,high)绘制exp(uniform(low,high)),变量的取值范围是[exp(low),exp(high)] <br>\n",
    "hp.randint(label,upper) 返回一个在[0,upper)前闭后开的区间内的随机整数。 <br>\n",
    "搜索空间可以含有list和dictionary.<br>"
   ]
  },
  {
   "cell_type": "code",
   "execution_count": null,
   "metadata": {
    "collapsed": true
   },
   "outputs": [],
   "source": [
    "from hyperopt import hp\n",
    "list_space = [\n",
    "hp.uniform(’a’, 0, 1),\n",
    "hp.loguniform(’b’, 0, 1)]\n",
    "tuple_space = (\n",
    "hp.uniform(’a’, 0, 1),\n",
    "hp.loguniform(’b’, 0, 1))\n",
    "dict_space = {\n",
    "’a’: hp.uniform(’a’, 0, 1),\n",
    "’b’: hp.loguniform(’b’, 0, 1)}"
   ]
  },
  {
   "cell_type": "markdown",
   "metadata": {},
   "source": [
    "使用sample函数从参数空间内采样："
   ]
  },
  {
   "cell_type": "code",
   "execution_count": null,
   "metadata": {
    "collapsed": true
   },
   "outputs": [],
   "source": [
    "from hyperopt.pyll.stochasti import sample\n",
    "print sample(list_space)\n",
    "# => [0.13, .235]\n",
    "print sample(nested_space)\n",
    "# => [[{’case’: 1, ’a’, 0.12‘}, {’case’: 2, ’b’: 2.3}],\n",
    "# ’extra_literal_string’,\n",
    "# 3]"
   ]
  },
  {
   "cell_type": "markdown",
   "metadata": {},
   "source": [
    "在参数空间内使用函数："
   ]
  },
  {
   "cell_type": "code",
   "execution_count": null,
   "metadata": {
    "collapsed": true
   },
   "outputs": [],
   "source": [
    "from hyperopt.pyll import scope\n",
    "def foo(x):\n",
    "return str(x) ∗ 3\n",
    "expr_space = {\n",
    "’a’: 1 + hp.uniform(’a’, 0, 1),\n",
    "’b’: scope.minimum(hp.loguniform(’b’, 0, 1), 10),\n",
    "’c’: scope.call(foo, args=(hp.randint(’c’, 5),)),\n",
    "}"
   ]
  },
  {
   "cell_type": "code",
   "execution_count": null,
   "metadata": {
    "collapsed": true
   },
   "outputs": [],
   "source": []
  }
 ],
 "metadata": {
  "kernelspec": {
   "display_name": "Py27",
   "language": "python",
   "name": "python2"
  },
  "language_info": {
   "codemirror_mode": {
    "name": "ipython",
    "version": 2
   },
   "file_extension": ".py",
   "mimetype": "text/x-python",
   "name": "python",
   "nbconvert_exporter": "python",
   "pygments_lexer": "ipython2",
   "version": "2.7.13"
  }
 },
 "nbformat": 4,
 "nbformat_minor": 2
}
