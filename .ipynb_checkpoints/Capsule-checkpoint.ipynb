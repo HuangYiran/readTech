{
 "cells": [
  {
   "cell_type": "markdown",
   "metadata": {},
   "source": [
    "本文内容主要来自：\n",
    "- https://www.youtube.com/watch?v=UhGWH3hb3Hk&index=12&list=PLJV_el3uVTsPMxPbjeX7PicgWbY7F8wW9"
   ]
  },
  {
   "cell_type": "markdown",
   "metadata": {},
   "source": [
    "## 简介\n",
    "capsule是用于取代neuron的一种尝试。与neuro输出一个value不同，每个capsule会输出一个vector。另外和neuron的，只针对一个pattern不同，capsule针对的是一个种类的pattern。其输出vector中每个dimension(这个vector的方向)会代表对象的一种特征，而这个vector的norm，则代表这个种类的pattern是否存在。<br>\n",
    "## Capsule\n",
    "![capsule1](https://raw.githubusercontent.com/HuangYiran/readTech/master/fotos/capsule1.png)\n",
    "这里的参数W，还是通过BP学习得到的，而与之相反，这里的C，是通过dynamic routing决定的（像pooling）。\n",
    "## Dynamic Routing\n",
    "![capsule2](https://raw.githubusercontent.com/HuangYiran/readTech/master/fotos/capsule2.png)"
   ]
  },
  {
   "cell_type": "markdown",
   "metadata": {
    "collapsed": true
   },
   "source": [
    "## Invariance v.s. Equivariance\n",
    "![capsule3](https://raw.githubusercontent.com/HuangYiran/readTech/master/fotos/capsule3.png)\n",
    "![capsule4](https://raw.githubusercontent.com/HuangYiran/readTech/master/fotos/capsule4.png)"
   ]
  },
  {
   "cell_type": "code",
   "execution_count": null,
   "metadata": {
    "collapsed": true
   },
   "outputs": [],
   "source": []
  }
 ],
 "metadata": {
  "kernelspec": {
   "display_name": "Py27",
   "language": "python",
   "name": "python2"
  },
  "language_info": {
   "codemirror_mode": {
    "name": "ipython",
    "version": 2
   },
   "file_extension": ".py",
   "mimetype": "text/x-python",
   "name": "python",
   "nbconvert_exporter": "python",
   "pygments_lexer": "ipython2",
   "version": "2.7.13"
  }
 },
 "nbformat": 4,
 "nbformat_minor": 2
}
