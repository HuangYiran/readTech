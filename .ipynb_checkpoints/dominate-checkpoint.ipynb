{
 "cells": [
  {
   "cell_type": "markdown",
   "metadata": {},
   "source": [
    "详细内容参见：\n",
    "- https://github.com/Knio/dominate"
   ]
  },
  {
   "cell_type": "markdown",
   "metadata": {},
   "source": [
    "### 简介\n",
    "Dominate是一个Python库使用一个优雅DOM API来创建和操作HTML文档。 允许用户用非常简洁的纯 Python 来编写 HTML 页面。而且又可以发挥 Python 自身强大的特性。"
   ]
  },
  {
   "cell_type": "code",
   "execution_count": 4,
   "metadata": {
    "collapsed": false
   },
   "outputs": [],
   "source": [
    "import dominate\n",
    "from dominate.tags import *"
   ]
  },
  {
   "cell_type": "code",
   "execution_count": 6,
   "metadata": {
    "collapsed": false
   },
   "outputs": [
    {
     "name": "stdout",
     "output_type": "stream",
     "text": [
      "<html>\n",
      "  <body>\n",
      "    <div id=\"header\"></div>\n",
      "    <div id=\"content\"></div>\n",
      "    <div id=\"footer\"></div>\n",
      "  </body>\n",
      "</html>\n"
     ]
    }
   ],
   "source": [
    "_html = html()\n",
    "_body = _html.add(body())\n",
    "header  = _body.add(div(id='header'))\n",
    "content = _body.add(div(id='content'))\n",
    "footer  = _body.add(div(id='footer'))\n",
    "print _html"
   ]
  },
  {
   "cell_type": "code",
   "execution_count": 7,
   "metadata": {
    "collapsed": false
   },
   "outputs": [
    {
     "name": "stdout",
     "output_type": "stream",
     "text": [
      "<!DOCTYPE html>\n",
      "<html>\n",
      "  <head>\n",
      "    <title>Dominate your HTML</title>\n",
      "    <link href=\"style.css\" rel=\"stylesheet\">\n",
      "    <script src=\"script.js\" type=\"text/javascript\"></script>\n",
      "  </head>\n",
      "  <body>\n",
      "    <div id=\"header\">\n",
      "      <ol>\n",
      "        <li>\n",
      "          <a href=\"/home.html\">Home</a>\n",
      "        </li>\n",
      "        <li>\n",
      "          <a href=\"/about.html\">About</a>\n",
      "        </li>\n",
      "        <li>\n",
      "          <a href=\"/contact.html\">Contact</a>\n",
      "        </li>\n",
      "      </ol>\n",
      "    </div>\n",
      "    <div class=\"body\">\n",
      "      <p>Lorem ipsum..</p>\n",
      "    </div>\n",
      "  </body>\n",
      "</html>\n"
     ]
    }
   ],
   "source": [
    "doc = dominate.document(title='Dominate your HTML')\n",
    "\n",
    "with doc.head:\n",
    "    link(rel='stylesheet', href='style.css')\n",
    "    script(type='text/javascript', src='script.js')\n",
    "\n",
    "with doc:\n",
    "    with div(id='header').add(ol()):\n",
    "        for i in ['home', 'about', 'contact']:\n",
    "            li(a(i.title(), href='/%s.html' % i))\n",
    "\n",
    "    with div():\n",
    "        attr(cls='body')\n",
    "        p('Lorem ipsum..')\n",
    "\n",
    "print(doc)"
   ]
  },
  {
   "cell_type": "code",
   "execution_count": null,
   "metadata": {
    "collapsed": true
   },
   "outputs": [],
   "source": []
  }
 ],
 "metadata": {
  "kernelspec": {
   "display_name": "Py27",
   "language": "python",
   "name": "python2"
  },
  "language_info": {
   "codemirror_mode": {
    "name": "ipython",
    "version": 2
   },
   "file_extension": ".py",
   "mimetype": "text/x-python",
   "name": "python",
   "nbconvert_exporter": "python",
   "pygments_lexer": "ipython2",
   "version": "2.7.13"
  }
 },
 "nbformat": 4,
 "nbformat_minor": 2
}
