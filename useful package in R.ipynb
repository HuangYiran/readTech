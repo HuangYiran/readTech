{
 "cells": [
  {
   "cell_type": "markdown",
   "metadata": {},
   "source": [
    "### ggplot2\n",
    "to build a graphical object with ggplot, you have to\n",
    "- built a ggplot object: nice.pic <- ggplot(DATA, aes(OPTIONS))\n",
    "- link the object with different abilities: nice.pic + specifications\n",
    "\n",
    "##### aesthetic mapping basics:\n",
    "OPTIONS:<br>\n",
    "x,y  :        defines the values for the x and y axis<br>\n",
    "color :     defines the frame colour, for instance relevant for bar plots(??倒了吧 这个应该是轴名吧)<br>\n",
    "shape  :   defines the filing, also relevant for bar plots(??)<br>\n",
    "\n",
    "##### specification basics\n",
    "GEOME(geometric mappings)\n",
    "- geom_abline()      #make a line, add an intercept and a slope\n",
    "- geom_point()       #draw values as points in the object\n",
    "\n",
    "Scales\n",
    "- scale_continuous()      #force to metric scale\n",
    "- scale_discrete()           #force to categorial scale\n",
    "\n",
    "Statistics\n",
    "- stat_density()               #add the state density\n"
   ]
  },
  {
   "cell_type": "markdown",
   "metadata": {},
   "source": [
    "### 线性混合模型：nlme\n",
    "http://blog.csdn.net/sinat_26917383/article/details/51636011"
   ]
  },
  {
   "cell_type": "markdown",
   "metadata": {},
   "source": [
    "### 时间序列分析：forecast\n",
    "http://staff.ustc.edu.cn/~jbs/Rts.pdf"
   ]
  },
  {
   "cell_type": "markdown",
   "metadata": {},
   "source": [
    "### 空间分布分析：spatstat\n",
    "https://cran.r-project.org/web/packages/spatstat/vignettes/getstart.pdf"
   ]
  },
  {
   "cell_type": "markdown",
   "metadata": {},
   "source": [
    "### 数据处理：dply\n",
    "这就不用说了"
   ]
  },
  {
   "cell_type": "markdown",
   "metadata": {},
   "source": [
    "### 字符串处理：stringr\n",
    "http://blog.fens.me/r-stringr/"
   ]
  },
  {
   "cell_type": "markdown",
   "metadata": {},
   "source": [
    "### 交互展示：shiny\n",
    "http://yanping.me/shiny-tutorial/"
   ]
  },
  {
   "cell_type": "code",
   "execution_count": null,
   "metadata": {
    "collapsed": true
   },
   "outputs": [],
   "source": []
  }
 ],
 "metadata": {
  "kernelspec": {
   "display_name": "Py27",
   "language": "python",
   "name": "python2"
  },
  "language_info": {
   "codemirror_mode": {
    "name": "ipython",
    "version": 2
   },
   "file_extension": ".py",
   "mimetype": "text/x-python",
   "name": "python",
   "nbconvert_exporter": "python",
   "pygments_lexer": "ipython2",
   "version": "2.7.13"
  }
 },
 "nbformat": 4,
 "nbformat_minor": 2
}
